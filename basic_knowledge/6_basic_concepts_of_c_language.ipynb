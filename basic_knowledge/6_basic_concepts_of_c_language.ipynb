{
 "cells": [
  {
   "cell_type": "markdown",
   "metadata": {},
   "source": [
    "# 编译和链接\n",
    "\n",
    "运行一个c程序,通常包含一下3个步骤:\n",
    "1. 预处理. 先程序会被送交给 预处理器(preprocessor) ,预处理执行以#开头的命令(通常称为 指令),预处理器有点类似于编辑器,它可以给程序添加内容,也可以对程序进行修改.\n",
    "2. 编译. 修改后的程序现在可以进入 编译器(compiler)了.编译器会把程序翻译成机器指令(即:目标代码).然而这样的程序还是不可以运行的.\n",
    "3. 链接. 在最后一个步骤中,链接器(linker)把由编译器产生的目标代码和所需要的其他附加代码整合到一起.这样才最终产生了完全可以执行的程序.这些附加代码包括程序中用到的库函数(如printf函数).\n",
    "\n",
    "在UNIX环境之下,编译和链接c程序可以使用命令行:\n",
    "```\n",
    "% gcc -o 编译后的程序名 编译的目标代码名\n",
    "```\n"
   ]
  },
  {
   "cell_type": "markdown",
   "metadata": {},
   "source": [
    "brevity is the soul of wit:简洁是智慧的灵魂"
   ]
  },
  {
   "cell_type": "markdown",
   "metadata": {},
   "source": [
    "# 集成开发环境(integrated development environment)"
   ]
  },
  {
   "cell_type": "markdown",
   "metadata": {},
   "source": [
    "# 库函数(library function)"
   ]
  },
  {
   "cell_type": "markdown",
   "metadata": {},
   "source": [
    "# 初始化(initialize)\n",
    "\n",
    "当程序开始执行时,某些变量会被自动设置为零,而大多数变量则不会,没有默认值且尚未在程序中被赋值的变量是未初始化的(uninitialized).\n",
    "\n",
    "如果试图访问未初始化的变量(例如printf显示变量,或者在表达式中使用该变量)可能会得到不可预知的结果,比如是一些毫无意义的数据,而在某些编译器中可能会发生更坏的结果(甚至是程序奔溃).\n",
    "\n",
    "所以我们最好在变量声明的时候就对其进行赋值:\n",
    "```\n",
    "int height=8;\n",
    "```\n",
    "上式中的数值8,按c语言中的描述,就是一个 初始化式(initializer)."
   ]
  },
  {
   "cell_type": "markdown",
   "metadata": {},
   "source": [
    "# 显示表达式的值\n",
    "\n",
    "printf的功能不仅限于显示变量中存储的数,还可以显示任意数值表达式的值,比如:\n",
    "```\n",
    "printf(\"%d\\n\",height*weight*kength);\n",
    "```\n",
    "通过这个例子表明了c语言的一个通用原则:**在任何需要数值的地方,都可以使用具有相同类型的表达式**"
   ]
  },
  {
   "cell_type": "markdown",
   "metadata": {},
   "source": [
    "# 读入输入\n",
    "\n",
    "为了获取输入我们就要用到**scanf**函数.它是c函数库中与printf相对应的函数.scanf中的字母f和printf中的字母f含义是相同的,都是表示\"格式化\"的意思.scanf和printf函数都需要使用**格式串**(format string)来指定输入或输出的数据形式.scanf函数需要知道将要获得的输入数据的格式,printf函数需要知道输出数据的显示格式.\n",
    "\n",
    "为了读入一个int型值,可以使用下面的scanf函数调用:\n",
    "```\n",
    "// 读取整数；存储到i中\n",
    "scanf(\"%d\",&i);  /* reads an integer; stores into i */\n",
    "```\n",
    "其中,字符串\"%d\"说明scanf读入的是一个整数,而i是一个int型变量,用来存储scanf读入的输入.\n",
    "\n",
    "读入一个float型值时,需要一个形式略有不同的scanf调用:\n",
    "```\n",
    "scanf(\"%f\",&x);  /* reads a float value; stores into x */\n",
    "```\n",
    "\n",
    "一个小例子:\n",
    "```\n",
    "#include <stdio.h>\n",
    "int main(void)\n",
    "{\n",
    "\tint height,length,width,volume,weight;\n",
    "\tprintf(\"enter height of box: \");\n",
    "\tscanf(\"%d\", &height);\n",
    "\tprintf(\"enter length of box: \");\n",
    "\tscanf(\"%d\", &length);\n",
    "\tprintf(\"enter width of box: \");\n",
    "\tscanf(\"%d\", &width);\n",
    "\tvolume = height*length*width;\n",
    "\tweight = (volume + 165)/166;\n",
    "\t\n",
    "\tprintf(\"volume (cubic inches):%d\\n\", volume);\n",
    "\tprintf(\"dimensional weight (pounds): %d\\n\", weight);\n",
    "\t\n",
    "\treturn 0;\n",
    "}\n",
    "```\n",
    "\n",
    "提示用户输入的消息(提示符)通常不应该以换行符结束,因为我们希望用户在同一行输入.这样,当用户敲回车键时,光标会自动移到下一行,因此就不需要程序通过显示换行符来终止当前行了.\n"
   ]
  },
  {
   "cell_type": "markdown",
   "metadata": {},
   "source": [
    "<stdio.h>它包含了C语言标准输入/输出库的相关信息。"
   ]
  },
  {
   "cell_type": "markdown",
   "metadata": {},
   "source": [
    "library function：库函数\n",
    "function call：函数调用\n"
   ]
  }
 ],
 "metadata": {
  "kernelspec": {
   "display_name": "Python 3",
   "language": "python",
   "name": "python3"
  },
  "language_info": {
   "codemirror_mode": {
    "name": "ipython",
    "version": 3
   },
   "file_extension": ".py",
   "mimetype": "text/x-python",
   "name": "python",
   "nbconvert_exporter": "python",
   "pygments_lexer": "ipython3",
   "version": "3.7.3"
  }
 },
 "nbformat": 4,
 "nbformat_minor": 2
}
