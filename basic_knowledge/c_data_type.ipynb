{
 "cells": [
  {
   "cell_type": "markdown",
   "metadata": {},
   "source": [
    "# 基本数据类型\n",
    "\n",
    "在c语言中，数据类型指的是用于声明不同类型的变量或函数的一个广泛的系统。变量的类型决定了变量存储占用的空间，以及如何解释存储的位模式。\n",
    "\n",
    "c中的类型可分为一下几种：\n",
    "1. 基本类型：\n",
    "> 字符型 char,整型 int 和浮点类型.其中浮点型分为:单精度 float 和双精度 double.\n",
    "2. 构造类型：\n",
    "> 枚举类型,数组类型,结构体类型,共用体类型。\n",
    "3. 指针类型：\n",
    "4. 空类型：\n",
    "\n",
    "**注:**c语言中不存在字符串变量,字符串只能存在字符数组中."
   ]
  },
  {
   "cell_type": "markdown",
   "metadata": {},
   "source": [
    "### sizeof运算符\n",
    "\n",
    "为了得到某个类型或某个变量在特定平台上的准确大小，您可以使用 sizeof 运算符。表达式 sizeof(type) 得到对象或类型的存储字节大小：\n",
    "\n",
    "实例：\n",
    "```\n",
    "#include <stdio.h>\n",
    "#include <limits.h>\n",
    "\n",
    "int main()\n",
    "{\n",
    "    printf(\"int 存储大小 ：%lu \\n\", sizeof(int));\n",
    "    \n",
    "    return 0;\n",
    "}\n",
    "```\n",
    "\n",
    "%lu 为32位无符号整数，得到结果为：\n",
    "```\n",
    "int 存储大小 ：4\n",
    "```\n",
    "\n"
   ]
  },
  {
   "cell_type": "markdown",
   "metadata": {},
   "source": [
    "# 格式化输出语句\n",
    "\n",
    "格式化输出语句,也可以说是占位输出,是将各种类型的数据按照格式化后的类型及指定的位置从计算机上显示.这样做的好处,是有利于计算机能够准确的将我们所要类型数据给我们.\n",
    "\n",
    "其格式为: `printf(\"输出格式符\",输出项);`\n",
    "\n",
    "c语言中的常用格式化符:\n",
    "+ %d 带符号十进制整数\n",
    "+ %c 单个字符\n",
    "+ %s 字符串\n",
    "+ %f 6位小数"
   ]
  },
  {
   "cell_type": "markdown",
   "metadata": {},
   "source": [
    "# 简单介绍一下printf()函数\n",
    "\n",
    "printf()函数的调用格式为：\n",
    "> printf(\"<格式化字符串>\", <参量表>);\n",
    "\n",
    "实例：\n",
    "```\n",
    "#include <stdio.h>\n",
    "int main()\n",
    "{\n",
    "    char ch = 'A';\n",
    "    char str[20] = \"www.runoob.com\";\n",
    "    float flt = 10.234;\n",
    "    int no = 150;\n",
    "    double db1 = 20.123456;\n",
    "    printf(\"字符为 %c \\n\", ch);\n",
    "    printf(\"字符串为 %s \\n\", str);\n",
    "    printf(\"浮点数为 %f \\n\", flt);\n",
    "    printf(\"整数为 %d \\n\", no);\n",
    "    printf(\"双精度值为 %lf \\n\", db1);\n",
    "    printf(\"八进制值为 %o \\n\", no);\n",
    "    printf(\"十六进制值为 %x \\n\", no);\n",
    "    \n",
    "    return 0;\n",
    "}\n",
    "```\n",
    "规定符：\n",
    "+ %d 十进制有符号整数\n",
    "+ %u 十进制无符号整数\n",
    "+ %f 浮点数\n",
    "+ %s 字符串\n",
    "+ %c 单个字符\n",
    "+ %p 指针的值\n",
    "+ %e 指数形式的浮点数\n",
    "+ %x,%X 无符号以十六进制表示的整数\n",
    "+ %o 无符号以八进制表示的整数\n",
    "+ %g 把输出的值按照%e或者%f类型中输出长度较小的方式输出\n",
    "+ %p 输出地址符\n",
    "+ %lu 32位无符号整数\n",
    "+ %llu 64位无符号整数"
   ]
  },
  {
   "cell_type": "markdown",
   "metadata": {},
   "source": [
    "# 强制类型转换(mandatory type conversion)\n",
    "\n",
    "强制类型转换是通过定义类型转换运算来实现的.其一般形式为:\n",
    "```\n",
    "(数据类型)(表达式)\n",
    "```\n",
    "其作用是把表达式的运算结果强制转换成类型说明符所表示的类型,例如:\n",
    "```\n",
    "double tempOne = 6.77;\n",
    "int tempTwo = (int)tempOne;  //强制转换为int类型\n",
    "printf(\"%f\\n\", tempOne);\n",
    "printf(\"%d\\n\", tempTwo);\n",
    "```\n",
    "输出结果:\n",
    "```\n",
    "6.777000\n",
    "6\n",
    "```\n",
    "\n",
    "使用强制转换时应注意一下问题:\n",
    "1. **数据类型和表达式都必须加括号**,如把(int)(x/2+y)写成了(int)x/2+y则成了把x转换成int类型后再除以2再与y相加了.\n",
    "2. 转换后不会改变原数据的类型及变量值,只在本次运算中**临时性转换**.\n",
    "3. 强制转换后的运算结果**不遵循四舍五入原则**.\n",
    "\n"
   ]
  },
  {
   "cell_type": "code",
   "execution_count": null,
   "metadata": {},
   "outputs": [],
   "source": []
  }
 ],
 "metadata": {
  "kernelspec": {
   "display_name": "Python 3",
   "language": "python",
   "name": "python3"
  },
  "language_info": {
   "codemirror_mode": {
    "name": "ipython",
    "version": 3
   },
   "file_extension": ".py",
   "mimetype": "text/x-python",
   "name": "python",
   "nbconvert_exporter": "python",
   "pygments_lexer": "ipython3",
   "version": "3.6.7"
  }
 },
 "nbformat": 4,
 "nbformat_minor": 2
}
