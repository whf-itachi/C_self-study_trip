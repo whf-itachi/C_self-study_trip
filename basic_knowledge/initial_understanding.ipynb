{
 "cells": [
  {
   "cell_type": "markdown",
   "metadata": {},
   "source": [
    "# C语言简介\n",
    "\n",
    "C语言是一种通用的高级语言，最初是由**丹尼斯.里奇**在贝尔实验室为开发 UNIX 操作系统而设计的。\n",
    "\n",
    "当前最新的C语言标准是C11，之前为C99。\n",
    "\n",
    "> C语言无时无刻不在谈内存，内存简直就是如影随形，你不得不去研究它。"
   ]
  },
  {
   "cell_type": "markdown",
   "metadata": {},
   "source": [
    "# 一个简单的C语言程序\n",
    "\n",
    "```\n",
    "#include <stdio.h>\n",
    "\n",
    "int main()\n",
    "{\n",
    "    /* 我的第一个C程序 */\n",
    "    printf(\"hello, world! \\n\");\n",
    "    \n",
    "    return 0;\n",
    ")\n",
    "\n",
    "```\n",
    "\n",
    "实例解析：\n",
    "\n",
    "+ 所有的C语言程序都需要包含 main()函数。代码从 main()函数开始执行。\n",
    "+ /* ... */ 用于注释说明。\n",
    "+ printf()用于格式化输出到屏幕。printf()函数在\"stdio.h\"头文件中声明。\n",
    "+ stdio.h是一个头文件(标准输入输出头文件)，#include是一个预处理命令，用来引入头文件。当编译器遇到 printf()函数时，如果没有找到 stdio.h 头文件，会发生编译错误。\n",
    "+ return 0; 语句用于表示退出程序。\n",
    "\n",
    "return 0; 有两个作用,一是使main函数终止(从而结束程序),二是指出main函数的返回值是0;\n",
    "\n",
    "注意:如果没有return 0;语句,程序仍然能终止.但是在许多编译器会产生一条警告信息(因为函数应该返回一个整数(int)却没有这么做).\n"
   ]
  },
  {
   "cell_type": "markdown",
   "metadata": {},
   "source": [
    "# C环境设置\n",
    "\n",
    "如果您想要设置C语言环境，需要确保电脑上有以下两款可用的软件，文本编辑器和C编译器。\n",
    "\n",
    "### 文本编辑器\n",
    "\n",
    "建议使用vim作为编辑器。\n",
    "\n",
    "通过文本编辑器创建的文件通常称为源文件，源文件包含程序源代码。C程序的源文件通常使用扩展名“.c”。\n",
    "\n",
    "### C编译器\n",
    "\n",
    "写在源文件中的源代码是人类可读的，它需要“编译”，转为机器语言，这样CPU可以按给定的指令执行程序。\n",
    "\n",
    "最常用的免费可用的编译器是 GNU 的 C/C++ 编译器，GNU的gcc编译器适合于C和C++编程语言。\n",
    "\n",
    "### UNIX和Linux上的安装\n",
    "\n",
    "如果您使用的是linux或UNIX，可以使用下面命令检查系统上是否安装了GCC：\n",
    "> gcc -v\n",
    "\n",
    "一般linux系统自带有gcc编译器，如果没有安装可以参考 http://gcc.gnu.org/install/ 上的详细说明进行安装。"
   ]
  },
  {
   "cell_type": "markdown",
   "metadata": {},
   "source": [
    "# C程序结构\n",
    "\n",
    "C程序主要包括以下部分：\n",
    "+ 预处理器指令\n",
    "+ 函数\n",
    "+ 变量\n",
    "+ 语句&表达式\n",
    "+ 注释\n",
    "\n",
    "代码实例：\n",
    "```\n",
    "#include <stdio.h>\n",
    "\n",
    "int main()\n",
    "{\n",
    "    printf(\"hello, world! \\n\");\n",
    "    \n",
    "    return 0;\n",
    "}\n",
    "```\n",
    "\n",
    "接下来运行这段代码：\n",
    "\n",
    "1. 打开一个文本编辑器，添加如上代码。\n",
    "2. 保存文件为 .c后缀的文件，此处举例为 hello.c文件。\n",
    "3. 打开命令提示符，进入到保存文件所在目录。\n",
    "4. 键入 gcc hello.c ，输入回车，编译代码。\n",
    "5. 如果代码中没有错误，命令提示符会跳到下一行，并生成 a.out 可执行文件。\n",
    "6. 现在，键入 a.out 来执行程序。\n",
    "7. 你可以看到屏幕上显示 \"hello world!\"。\n",
    "\n",
    "如果是多个C代码的源文件，编译方法如下：\n",
    "> gcc test1.c test2.c -o main.out\n",
    ">\n",
    "> ./main.out\n",
    "\n",
    "还可以使用一下命令来执行编译和连接过程:\n",
    "```\n",
    "% gcc -o pun hello.c\n",
    "```\n",
    "这样的话就会生成一个可执行的 pun 文件. 现在直接键入 pun 便可以执行了.当然你也可以自己起一个名字而不必使用 pun 道理是一样的."
   ]
  },
  {
   "cell_type": "code",
   "execution_count": null,
   "metadata": {},
   "outputs": [],
   "source": []
  }
 ],
 "metadata": {
  "kernelspec": {
   "display_name": "Python 3",
   "language": "python",
   "name": "python3"
  },
  "language_info": {
   "codemirror_mode": {
    "name": "ipython",
    "version": 3
   },
   "file_extension": ".py",
   "mimetype": "text/x-python",
   "name": "python",
   "nbconvert_exporter": "python",
   "pygments_lexer": "ipython3",
   "version": "3.6.7"
  }
 },
 "nbformat": 4,
 "nbformat_minor": 2
}
