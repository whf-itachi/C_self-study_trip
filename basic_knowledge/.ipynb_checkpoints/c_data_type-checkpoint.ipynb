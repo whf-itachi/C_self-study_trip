{
 "cells": [
  {
   "cell_type": "markdown",
   "metadata": {},
   "source": [
    "在c语言中，数据类型指的是用于声明不同类型的变量或函数的一个广泛的系统。变量的类型决定了变量存储占用的空间，以及如何解释存储的位模式。\n",
    "\n",
    "c中的类型可分为一下几种：\n",
    "1. 基本类型：\n",
    "> 它们是算术类型，包括两种类型：整数类型和浮点类型。\n",
    "2. 枚举类型：\n",
    "> 它们也是算术类型，被用来定义在程序中只能赋予其一定的离散整数值的变量。\n",
    "3. void类型：\n",
    "> 类型说明符 void 表明没有可用的值。\n",
    "4. 派生类型：\n",
    "> 它们包括：指针类型、数组类型、结构类型、共用体类型和函数类型。\n",
    "\n",
    "数组类型和结构类型统称为聚合类型。函数的类型指的是函数返回值的类型。"
   ]
  },
  {
   "cell_type": "markdown",
   "metadata": {},
   "source": [
    "### sizeof运算符\n",
    "\n",
    "为了得到某个类型或某个变量在特定平台上的准确大小，您可以使用 sizeof 运算符。表达式 sizeof(type) 得到对象或类型的存储字节大小：\n",
    "\n",
    "实例：\n",
    "```\n",
    "#include <stdio.h>\n",
    "#include <limits.h>\n",
    "\n",
    "int main()\n",
    "{\n",
    "    printf(\"int 存储大小 ：%lu \\n\", sizeof(int));\n",
    "    \n",
    "    return 0;\n",
    "}\n",
    "```\n",
    "\n",
    "%lu 为32位无符号整数，得到结果为：\n",
    "```\n",
    "int 存储大小 ：4\n",
    "```\n",
    "\n"
   ]
  },
  {
   "cell_type": "markdown",
   "metadata": {},
   "source": [
    "# 简单介绍一下printf()函数\n",
    "\n",
    "printf()函数的调用格式为：\n",
    "> printf(\"<格式化字符串>\", <参量表>);\n",
    "\n",
    "实例：\n",
    "```\n",
    "#include <stdio.h>\n",
    "int main()\n",
    "{\n",
    "    char ch = 'A';\n",
    "    char str[20] = \"www.runoob.com\";\n",
    "    float flt = 10.234;\n",
    "    int no = 150;\n",
    "    double db1 = 20.123456;\n",
    "    printf(\"字符为 %c \\n\", ch);\n",
    "    printf(\"字符串为 %s \\n\", str);\n",
    "    printf(\"浮点数为 %f \\n\", flt);\n",
    "    printf(\"整数为 %d \\n\", no);\n",
    "    printf(\"双精度值为 %lf \\n\", db1);\n",
    "    printf(\"八进制值为 %o \\n\", no);\n",
    "    printf(\"十六进制值为 %x \\n\", no);\n",
    "    \n",
    "    return 0;\n",
    "}\n",
    "```\n",
    "规定符：\n",
    "+ %d 十进制有符号整数\n",
    "+ %u 十进制无符号整数\n",
    "+ %f 浮点数\n",
    "+ %s 字符串\n",
    "+ %c 单个字符\n",
    "+ %p 指针的值\n",
    "+ %e 指数形式的浮点数\n",
    "+ %x,%X 无符号以十六进制表示的整数\n",
    "+ %o 无符号以八进制表示的整数\n",
    "+ %g 把输出的值按照%e或者%f类型中输出长度较小的方式输出\n",
    "+ %p 输出地址符\n",
    "+ %lu 32位无符号整数\n",
    "+ %llu 64位无符号整数"
   ]
  },
  {
   "cell_type": "code",
   "execution_count": null,
   "metadata": {},
   "outputs": [],
   "source": []
  }
 ],
 "metadata": {
  "kernelspec": {
   "display_name": "Python 3",
   "language": "python",
   "name": "python3"
  },
  "language_info": {
   "codemirror_mode": {
    "name": "ipython",
    "version": 3
   },
   "file_extension": ".py",
   "mimetype": "text/x-python",
   "name": "python",
   "nbconvert_exporter": "python",
   "pygments_lexer": "ipython3",
   "version": "3.6.7"
  }
 },
 "nbformat": 4,
 "nbformat_minor": 2
}
