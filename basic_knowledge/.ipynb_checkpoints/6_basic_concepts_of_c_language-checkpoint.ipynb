{
 "cells": [
  {
   "cell_type": "markdown",
   "metadata": {},
   "source": [
    "# 编译和链接\n",
    "\n",
    "运行一个c程序,通常包含一下3个步骤:\n",
    "1. 预处理. 先程序会被送交给 预处理器(preprocessor) ,预处理执行以#开头的命令(通常称为 指令),预处理器有点类似于编辑器,它可以给程序添加内容,也可以对程序进行修改.\n",
    "2. 编译. 修改后的程序现在可以进入 编译器(compiler)了.编译器会把程序翻译成机器指令(即:目标代码).然而这样的程序还是不可以运行的.\n",
    "3. 链接. 在最后一个步骤中,链接器(linker)把由编译器产生的目标代码和所需要的其他附加代码整合到一起.这样才最终产生了完全可以执行的程序.这些附加代码包括程序中用到的库函数(如printf函数).\n",
    "\n",
    "在UNIX环境之下,编译和链接c程序可以使用命令行:\n",
    "```\n",
    "% gcc -o 编译后的程序名 编译的目标代码名\n",
    "```\n"
   ]
  },
  {
   "cell_type": "markdown",
   "metadata": {},
   "source": [
    "# 集成开发环境(integrated development environment)"
   ]
  },
  {
   "cell_type": "markdown",
   "metadata": {},
   "source": [
    "# 库函数(library function)"
   ]
  },
  {
   "cell_type": "markdown",
   "metadata": {},
   "source": [
    "# 初始化(initialize)\n",
    "\n",
    "当程序开始执行时,某些变量会被自动设置为零,而大多数变量则不会,没有默认值且尚未在程序中被赋值的变量是未初始化的(uninitialized).\n",
    "\n",
    "如果试图访问未初始化的变量(例如printf显示变量,或者在表达式中使用该变量)可能会得到不可预知的结果,比如是一些毫无意义的数据,而在某些编译器中可能会发生更坏的结果(甚至是程序奔溃).\n",
    "\n",
    "所以我们最好在变量声明的时候就对其进行赋值:\n",
    "```\n",
    "int height=8;\n",
    "```\n",
    "上式中的数值8,按c语言中的描述,就是一个 初始化式(initializer)."
   ]
  },
  {
   "cell_type": "markdown",
   "metadata": {},
   "source": [
    "# 显示表达式的值\n",
    "\n",
    "printf的功能不仅限于显示变量中存储的数,还可以显示任意数值表达式的值,比如:\n",
    "```\n",
    "printf(\"%d\\n\",height*weight*kength);\n",
    "```\n",
    "通过这个例子表明了c语言的一个通用原则:**在任何需要数值的地方,都可以使用具有相同类型的表达式**"
   ]
  },
  {
   "cell_type": "code",
   "execution_count": null,
   "metadata": {},
   "outputs": [],
   "source": []
  }
 ],
 "metadata": {
  "kernelspec": {
   "display_name": "Python 3",
   "language": "python",
   "name": "python3"
  },
  "language_info": {
   "codemirror_mode": {
    "name": "ipython",
    "version": 3
   },
   "file_extension": ".py",
   "mimetype": "text/x-python",
   "name": "python",
   "nbconvert_exporter": "python",
   "pygments_lexer": "ipython3",
   "version": "3.6.7"
  }
 },
 "nbformat": 4,
 "nbformat_minor": 2
}
