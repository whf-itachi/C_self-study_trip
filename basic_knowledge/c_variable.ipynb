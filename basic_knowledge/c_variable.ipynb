{
 "cells": [
  {
   "cell_type": "markdown",
   "metadata": {},
   "source": [
    "# c变量\n",
    "\n",
    "变量其实只不过是程序可操作的存储区的名称。c中每个变量都有特定的类型，类型决定了变量存储大大小和布局，该范围的值都可以存储在内存中，运算符可应用于变量上。\n",
    "\n",
    "变量的名称可以由字母、数字和下划线字符组成。它必须以字母或下划线开头。c是对大小写敏感的。\n",
    "\n"
   ]
  },
  {
   "cell_type": "markdown",
   "metadata": {},
   "source": [
    "# 变量及赋值\n",
    "\n",
    "变量占据内存中一定的存储单元,使用变量之前必须先定义变量,要区分**变量名和变量值是两个不同的概念**.好比:住在房间的客人与房间号是两个不同的概念.\n",
    "\n",
    "变量定义的一般形式为: `数据类型 变量名;`\n",
    "\n",
    "多个类型相同的变量: `数据类型 变量名,变量名,变量名...;`\n",
    "\n",
    "**注意:**在定义中不允许连续赋值,如 int a=b=5; 是不合法的.\n",
    "\n",
    "变量的赋值分为两种方式:\n",
    "1. 先声明再赋值\n",
    "```\n",
    "int num;\n",
    "num = 100;\n",
    "```\n",
    "2. 声明的同时赋值\n",
    "```\n",
    "int x = 10;\n",
    "```"
   ]
  },
  {
   "cell_type": "code",
   "execution_count": null,
   "metadata": {},
   "outputs": [],
   "source": []
  }
 ],
 "metadata": {
  "kernelspec": {
   "display_name": "Python 3",
   "language": "python",
   "name": "python3"
  },
  "language_info": {
   "codemirror_mode": {
    "name": "ipython",
    "version": 3
   },
   "file_extension": ".py",
   "mimetype": "text/x-python",
   "name": "python",
   "nbconvert_exporter": "python",
   "pygments_lexer": "ipython3",
   "version": "3.6.7"
  }
 },
 "nbformat": 4,
 "nbformat_minor": 2
}
