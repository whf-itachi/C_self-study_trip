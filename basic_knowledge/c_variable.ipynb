{
 "cells": [
  {
   "cell_type": "markdown",
   "metadata": {},
   "source": [
    "# c变量\n",
    "\n",
    "变量其实只不过是程序可操作的存储区的名称。c中每个变量都有特定的类型，类型决定了变量存储大大小和布局，该范围的值都可以存储在内存中，运算符可应用于变量上。\n",
    "\n",
    "变量的名称可以由字母、数字和下划线字符组成。它必须以字母或下划线开头。c是对大小写敏感的。\n",
    "\n"
   ]
  },
  {
   "cell_type": "markdown",
   "metadata": {},
   "source": [
    "# 变量及赋值\n",
    "\n",
    "变量占据内存中一定的存储单元,使用变量之前必须先定义变量,要区分**变量名和变量值是两个不同的概念**.好比:住在房间的客人与房间号是两个不同的概念.\n",
    "\n",
    "变量定义的一般形式为: `数据类型 变量名;`\n",
    "\n",
    "多个类型相同的变量: `数据类型 变量名,变量名,变量名...;`\n",
    "\n",
    "**注意:**在定义中不允许连续赋值,如 int a=b=5; 是不合法的.\n",
    "\n",
    "变量的赋值分为两种方式:\n",
    "1. 先声明再赋值\n",
    "```\n",
    "int num;\n",
    "num = 100;\n",
    "```\n",
    "2. 声明的同时赋值\n",
    "```\n",
    "int x = 10;\n",
    "```"
   ]
  },
  {
   "cell_type": "markdown",
   "metadata": {},
   "source": [
    "# C 不可变的常量\n",
    "\n",
    "在程序执行过程中,值不发生改变的量称为**常量**,c语言的常量为**直接常量**和**符号常量**.\n",
    "\n",
    "直接常量也称为字面量,是可以直接拿来使用,无需说明的量,比如:\n",
    "+ 整形常量: 23, 3, -2;\n",
    "+ 实型常量: 13.33, -4.2;\n",
    "+ 字符常量: 'a', 'M';\n",
    "+ 字符串常量: \"i love imooc!\";\n",
    "\n",
    "在c语言中,可以用一个标识符来表示一个常量,称之为符号常量.符号常量在使用之前必须先定义,其一般形式为:\n",
    "```\n",
    "#define 标识符 常量值\n",
    "```\n",
    "符号常量的标识符一般习惯使用大写字母,变量的标识符一般习惯使用小写字母,加以区分.下面是一个使用符号常量的小例子:\n",
    "```\n",
    "#include <stdio.h>\n",
    "#define PI 3.14  //定义一个圆周率常量\n",
    "int main()\n",
    "{\n",
    "    printf(\"圆周率: %f\\n\", PI);\n",
    "    return 0;\n",
    "}\n",
    "```\n",
    "注意:常量是不可改变的"
   ]
  },
  {
   "cell_type": "markdown",
   "metadata": {},
   "source": [
    "# 自动类型转换\n",
    "\n",
    "有这么一个词叫\"狸猫换太子\",变量的数据类型就存在这样的情况.数据类型存在自动转换的情况,比如:\n",
    "```\n",
    "#include <stdio.h>\n",
    "int main()\n",
    "{\n",
    "    char c = 'a';\n",
    "    int n = c;\n",
    "    float f = c;\n",
    "    double d = c;\n",
    "    printf(\"%d\\n\",n);\n",
    "    printf(\"%f\\n\",f);\n",
    "    printf(\"%lf\\n\",d);\n",
    "    return 0;\n",
    "}\n",
    "```\n",
    "输出为:\n",
    "```\n",
    "97\n",
    "97.000000\n",
    "97.000000\n",
    "```\n",
    "car类型数据转换为int类型数据遵循ASCII码中的对应值.\n",
    "\n",
    "**注**:字节小的可以向字节大的自动转换,但字节大的不能向字节小的自动转换"
   ]
  },
  {
   "cell_type": "code",
   "execution_count": null,
   "metadata": {},
   "outputs": [],
   "source": []
  }
 ],
 "metadata": {
  "kernelspec": {
   "display_name": "Python 3",
   "language": "python",
   "name": "python3"
  },
  "language_info": {
   "codemirror_mode": {
    "name": "ipython",
    "version": 3
   },
   "file_extension": ".py",
   "mimetype": "text/x-python",
   "name": "python",
   "nbconvert_exporter": "python",
   "pygments_lexer": "ipython3",
   "version": "3.6.7"
  }
 },
 "nbformat": 4,
 "nbformat_minor": 2
}
